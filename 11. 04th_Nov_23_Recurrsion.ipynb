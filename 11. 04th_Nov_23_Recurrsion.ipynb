{
 "cells": [
  {
   "cell_type": "raw",
   "metadata": {},
   "source": [
    "::Recurrsion::"
   ]
  },
  {
   "cell_type": "code",
   "execution_count": 12,
   "metadata": {},
   "outputs": [
    {
     "name": "stdout",
     "output_type": "stream",
     "text": [
      "Tower of Honie steps to move Disks from A to C\n",
      "Disk moved Rod_A ---> Rod_C\n",
      "Disk moved Rod_A ---> Rod_B\n",
      "Disk moved Rod_C ---> Rod_B\n",
      "Disk moved Rod_A ---> Rod_C\n",
      "Disk moved Rod_B ---> Rod_A\n",
      "Disk moved Rod_B ---> Rod_C\n",
      "Disk moved Rod_A ---> Rod_C\n"
     ]
    }
   ],
   "source": [
    "#1.Can you explain the logic and working of the Tower of Hanoi algorithm by writing a Java program? \n",
    "#  How does the recursion work, and how are the movements of disks between rods accomplished?\n",
    "\n",
    "\"\"\"\n",
    "Explainations:\n",
    "    -The tower of Honie is a Game of Moving the disks from one rod to another rod  y taking a third rod as a Intermidiatery.\n",
    "    -So there are some of the rule :\n",
    "        1. All of the disk should be moved from source rod to target rod.\n",
    "        2. Only one disks can be moved from the one rod to another.\n",
    "        3. And the disk should be placed on bigger disk not on smaller than itself..\n",
    "        \n",
    "    -So the problem can be solved using recurrsion using simple recurrsive algorithm..\n",
    "     Which breaks down the bigger problem to smallest parts..\n",
    "    Logic:\n",
    "        1.So the n-1 disks should be moved from source rod to intermidiatory rod.\n",
    "          by recurrsive method one by one disk will moved from source to  \n",
    "        2.After above the nth disk  should be moved from source rod to target rod..\n",
    "        3.After that , The n-1 disks should be moved from intermidiatory rod to source rod.\n",
    "        \n",
    "        These statements will be breakdown into smaller parts using recurrsion.\n",
    "          \n",
    "        So these are main three statements which perform a recurrsive call till the n == 1.\n",
    "        \n",
    "\"\"\"        \n",
    "  \n",
    "\n",
    "\n",
    "\n",
    "def tower_of_honie(n, src, aux, dest):\n",
    "    if n==1:\n",
    "        print(f\"Disk moved {src} ---> {dest}\")\n",
    "        return\n",
    "    tower_of_honie(n-1, src, dest,  aux)\n",
    "    print(f\"Disk moved {src} ---> {dest}\")\n",
    "    tower_of_honie(n-1,aux,src,dest)\n",
    "    \n",
    "    \n",
    "n = 3\n",
    "\n",
    "print(\"Tower of Honie steps to move Disks from A to C\")\n",
    "tower_of_honie(n, 'Rod_A', 'Rod_B', 'Rod_C')\n",
    "\n",
    "\n",
    "    \n",
    "    "
   ]
  },
  {
   "cell_type": "code",
   "execution_count": 6,
   "metadata": {},
   "outputs": [
    {
     "name": "stdout",
     "output_type": "stream",
     "text": [
      "E.g. 1. Minimum operations for word1 = horse to word2 = ros : 3\n",
      "E.g. 2. Minimum operations for word1 = intention to word2 = execution : 5\n"
     ]
    }
   ],
   "source": [
    "#2. Given two strings word1 and word2, return the minimum number of operations required to \n",
    "#   convert word1 to word2.\n",
    "'''\n",
    "Example 1:\n",
    "    Input: word1 = \"horse\", word2 = \"ros\"\n",
    "    Output: 3\n",
    "    \n",
    "    Explanation: \n",
    "    horse -> rorse (replace 'h' with 'r')\n",
    "    rorse -> rose (remove 'r')\n",
    "    rose -> ros (remove 'e')\n",
    "\n",
    "Example 2:\n",
    "    Input: word1 = \"intention\", word2 = \"execution\"\n",
    "    Output: 5\n",
    "    \n",
    "    Explanation: \n",
    "    intention -> inention (remove 't')\n",
    "    inention -> enention (replace 'i' with 'e')\n",
    "    enention -> exention (replace 'n' with 'x')\n",
    "    exention -> exection (replace 'n' with 'c')\n",
    "    exection -> execution (insert 'u')\n",
    " '''\n",
    "\n",
    "\n",
    "\n",
    "def minDistance(word1, word2):\n",
    "    def minDistanceHelper(i, j):\n",
    "        # If either word1 or word2 is empty, return the remaining length of the other word\n",
    "        if i == len(word1):\n",
    "            return len(word2) - j\n",
    "        if j == len(word2):\n",
    "            return len(word1) - i\n",
    "        \n",
    "        # If characters match, move to the next characters\n",
    "        if word1[i] == word2[j]:\n",
    "            return minDistanceHelper(i + 1, j + 1)\n",
    "        \n",
    "        # Perform operations - delete, insert, or replace\n",
    "        insert_op = minDistanceHelper(i, j + 1)\n",
    "        delete_op = minDistanceHelper(i + 1, j)\n",
    "        replace_op = minDistanceHelper(i + 1, j + 1)\n",
    "        \n",
    "        # Return 1 (operation) + minimum of delete, insert, or replace operations\n",
    "        return 1 + min(insert_op, delete_op, replace_op)\n",
    "\n",
    "    return minDistanceHelper(0, 0)\n",
    "\n",
    "# Test cases\n",
    "word1_1, word2_1 = \"horse\", \"ros\"\n",
    "word1_2, word2_2 = \"intention\", \"execution\"\n",
    "\n",
    "print(f\"E.g. 1. Minimum operations for word1 = {word1_1} to word2 = {word2_1} :\", minDistance(word1_1, word2_1))  # Output: 3\n",
    "print(f\"E.g. 2. Minimum operations for word1 = {word1_2} to word2 = {word2_2} :\", minDistance(word1_2, word2_2))  # Output: 5\n",
    "\n",
    "\n"
   ]
  },
  {
   "cell_type": "code",
   "execution_count": 8,
   "metadata": {},
   "outputs": [
    {
     "name": "stdout",
     "output_type": "stream",
     "text": [
      "The maximum value in the array is: 55\n"
     ]
    }
   ],
   "source": [
    "#Q. 3 Print the max value of the array [ 13, 1, -3, 22, 5].\n",
    "\n",
    "def find_max(arr, n):\n",
    "    \n",
    "    if n == 1:\n",
    "        return arr[0]\n",
    "    \n",
    "    # Recursive case\n",
    "    max_rest = find_max(arr, n - 1)\n",
    "    \n",
    "    \n",
    "    return max_rest if max_rest > arr[n - 1] else arr[n - 1]\n",
    "\n",
    "arr = [13, 1, -3, 22, 55]\n",
    "max_value = find_max(arr, len(arr))\n",
    "print(\"The maximum value in the array is:\", max_value)\n"
   ]
  },
  {
   "cell_type": "code",
   "execution_count": 10,
   "metadata": {},
   "outputs": [
    {
     "name": "stdout",
     "output_type": "stream",
     "text": [
      "Sum of Array :  120\n"
     ]
    }
   ],
   "source": [
    "#Q.4 Find the sum of the values of the array [92, 23, 15, -20, 10].\n",
    "\n",
    "def arraySum(arr1):\n",
    "    #Base Case\n",
    "    if len(arr1) <=1:\n",
    "        return arr1[0]\n",
    "    \n",
    "    #Recurrsive call\n",
    "    return arr1[0] + arraySum(arr1[1:])\n",
    "\n",
    "\n",
    "arr1 = [92, 23, 15, -20, 10]\n",
    "print(f\"Sum of Array : \",arraySum(arr1))\n"
   ]
  },
  {
   "cell_type": "code",
   "execution_count": 27,
   "metadata": {},
   "outputs": [
    {
     "name": "stdin",
     "output_type": "stream",
     "text": [
      "Enter the Number :  134\n"
     ]
    },
    {
     "name": "stdout",
     "output_type": "stream",
     "text": [
      "Num 134 is Armstrong No ?..:  No\n"
     ]
    }
   ],
   "source": [
    "#Q.5 Given a number n. Print if it is an armstrong number or not.An armstrong number is a number if the sum \n",
    "#    of every digit in that number raised to the power of total digits in that number is equal to the number.\n",
    "\n",
    "'''\n",
    "Example : 153 = 1^3 + 5^3 + 3^3 = 1 + 125 + 27 = 153 hence 153 is an armstrong number. (Easy)\n",
    "Input1 : 153\n",
    "Output1 : Yes\n",
    "\n",
    "Input 2 : 134\n",
    "Output2 : No\n",
    "'''\n",
    "\n",
    "def isArmstrong(n):\n",
    "    nums = [int(digit) for digit in str(n)]\n",
    "    length = len(nums)\n",
    "    \n",
    "    #Recurrsion Func : Calculate the sum of digits\n",
    "    def calc(nums,length):\n",
    "        \n",
    "        #Base case:\n",
    "        if len(nums)<=1:\n",
    "            return nums[0]**length\n",
    "        \n",
    "        #Recurrsive call\n",
    "        return nums[0]**length + calc(nums[1:],length)\n",
    "    \n",
    "    calculated = calc(nums,length)\n",
    "    #Camparision\n",
    "    if n == calculated:\n",
    "        return \"Yes\"\n",
    "    else:\n",
    "        return \"No\"\n",
    "\n",
    "inputNo = int(input(\"Enter the Number : \"))\n",
    "print(f\"Num {inputNo} is Armstrong No ?..: \",isArmstrong(inputNo))\n"
   ]
  },
  {
   "cell_type": "code",
   "execution_count": null,
   "metadata": {},
   "outputs": [],
   "source": []
  }
 ],
 "metadata": {
  "kernelspec": {
   "display_name": "Python 3 (ipykernel)",
   "language": "python",
   "name": "python3"
  },
  "language_info": {
   "codemirror_mode": {
    "name": "ipython",
    "version": 3
   },
   "file_extension": ".py",
   "mimetype": "text/x-python",
   "name": "python",
   "nbconvert_exporter": "python",
   "pygments_lexer": "ipython3",
   "version": "3.10.8"
  }
 },
 "nbformat": 4,
 "nbformat_minor": 4
}
